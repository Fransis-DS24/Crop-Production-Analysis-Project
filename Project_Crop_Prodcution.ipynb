{
 "cells": [
  {
   "cell_type": "markdown",
   "id": "bb6e1412",
   "metadata": {},
   "source": [
    "\n",
    "<img src=\"6.jpeg\" width=\"500\">\n",
    "<img src=\"5.jpeg\" width=\"500\">\n"
   ]
  },
  {
   "cell_type": "markdown",
   "id": "a83ad9c5",
   "metadata": {},
   "source": [
    "# <span style=\"color: springgreen;\">🌾Crop Production </span>"
   ]
  },
  {
   "cell_type": "markdown",
   "id": "21c3f9f6",
   "metadata": {},
   "source": [
    "## <span style=\"color: springgreen;\">✒️Objective </span>"
   ]
  },
  {
   "cell_type": "markdown",
   "id": "126b416d",
   "metadata": {},
   "source": [
    "The primary objective of analyzing this dataset is to understand the factors influencing crop production and to develop predictive models that can accurately forecast crop yields. This analysis aims to provide valuable insights to farmers, agricultural policymakers, and researchers to optimize agricultural practices and improve productivity."
   ]
  },
  {
   "cell_type": "markdown",
   "id": "60a24479",
   "metadata": {},
   "source": [
    "## <span style=\"color: springgreen;\">✒️Data Overview </span>"
   ]
  },
  {
   "cell_type": "markdown",
   "id": "57f85e11",
   "metadata": {},
   "source": [
    "**The Dataset contains several key features of various crops produced in India. Below is a description for each features.**\n",
    "- **Crop_Year**: The year in which the crop was harvested.\n",
    "- **Season**: The season during which the crop was grown (e.g., Kharif, Rabi, Whole Year).\n",
    "- **Crop**: The type of crop grown.\n",
    "- **Area**: The area of land (in hectares) used for cultivation.\n",
    "- **Production**: The total production of the crop (in tonnes).\n"
   ]
  },
  {
   "cell_type": "markdown",
   "id": "1dad268d",
   "metadata": {},
   "source": [
    "## <span style=\"color: springgreen;\">✒️Import Required Libraries </span>"
   ]
  },
  {
   "cell_type": "code",
   "execution_count": 71,
   "id": "04a4fee8-0aa3-4ff2-863e-335306e54885",
   "metadata": {},
   "outputs": [],
   "source": [
    "import pandas as pd\n",
    "import numpy as np\n",
    "import seaborn as sns\n",
    "import matplotlib.pyplot as plt\n",
    "import warnings \n",
    "warnings.filterwarnings(\"ignore\")"
   ]
  },
  {
   "cell_type": "code",
   "execution_count": 72,
   "id": "69fd2569-a1b6-41bd-a2d1-c7d793fdf5ab",
   "metadata": {},
   "outputs": [],
   "source": [
    "#reading the dataset\n",
    "df=pd.read_csv('Crop Production data.csv')"
   ]
  },
  {
   "cell_type": "code",
   "execution_count": 73,
   "id": "d1bdc6ce-fd10-47d2-9d8d-ea45b25d3cbd",
   "metadata": {},
   "outputs": [
    {
     "data": {
      "text/html": [
       "<div>\n",
       "<style scoped>\n",
       "    .dataframe tbody tr th:only-of-type {\n",
       "        vertical-align: middle;\n",
       "    }\n",
       "\n",
       "    .dataframe tbody tr th {\n",
       "        vertical-align: top;\n",
       "    }\n",
       "\n",
       "    .dataframe thead th {\n",
       "        text-align: right;\n",
       "    }\n",
       "</style>\n",
       "<table border=\"1\" class=\"dataframe\">\n",
       "  <thead>\n",
       "    <tr style=\"text-align: right;\">\n",
       "      <th></th>\n",
       "      <th>State_Name</th>\n",
       "      <th>District_Name</th>\n",
       "      <th>Crop_Year</th>\n",
       "      <th>Season</th>\n",
       "      <th>Crop</th>\n",
       "      <th>Area</th>\n",
       "      <th>Production</th>\n",
       "    </tr>\n",
       "  </thead>\n",
       "  <tbody>\n",
       "    <tr>\n",
       "      <th>0</th>\n",
       "      <td>Andaman and Nicobar Islands</td>\n",
       "      <td>NICOBARS</td>\n",
       "      <td>2000</td>\n",
       "      <td>Kharif</td>\n",
       "      <td>Arecanut</td>\n",
       "      <td>1254.0</td>\n",
       "      <td>2000.0</td>\n",
       "    </tr>\n",
       "    <tr>\n",
       "      <th>1</th>\n",
       "      <td>Andaman and Nicobar Islands</td>\n",
       "      <td>NICOBARS</td>\n",
       "      <td>2000</td>\n",
       "      <td>Kharif</td>\n",
       "      <td>Other Kharif pulses</td>\n",
       "      <td>2.0</td>\n",
       "      <td>1.0</td>\n",
       "    </tr>\n",
       "    <tr>\n",
       "      <th>2</th>\n",
       "      <td>Andaman and Nicobar Islands</td>\n",
       "      <td>NICOBARS</td>\n",
       "      <td>2000</td>\n",
       "      <td>Kharif</td>\n",
       "      <td>Rice</td>\n",
       "      <td>102.0</td>\n",
       "      <td>321.0</td>\n",
       "    </tr>\n",
       "    <tr>\n",
       "      <th>3</th>\n",
       "      <td>Andaman and Nicobar Islands</td>\n",
       "      <td>NICOBARS</td>\n",
       "      <td>2000</td>\n",
       "      <td>Whole Year</td>\n",
       "      <td>Banana</td>\n",
       "      <td>176.0</td>\n",
       "      <td>641.0</td>\n",
       "    </tr>\n",
       "    <tr>\n",
       "      <th>4</th>\n",
       "      <td>Andaman and Nicobar Islands</td>\n",
       "      <td>NICOBARS</td>\n",
       "      <td>2000</td>\n",
       "      <td>Whole Year</td>\n",
       "      <td>Cashewnut</td>\n",
       "      <td>720.0</td>\n",
       "      <td>165.0</td>\n",
       "    </tr>\n",
       "  </tbody>\n",
       "</table>\n",
       "</div>"
      ],
      "text/plain": [
       "                    State_Name District_Name  Crop_Year       Season  \\\n",
       "0  Andaman and Nicobar Islands      NICOBARS       2000  Kharif        \n",
       "1  Andaman and Nicobar Islands      NICOBARS       2000  Kharif        \n",
       "2  Andaman and Nicobar Islands      NICOBARS       2000  Kharif        \n",
       "3  Andaman and Nicobar Islands      NICOBARS       2000  Whole Year    \n",
       "4  Andaman and Nicobar Islands      NICOBARS       2000  Whole Year    \n",
       "\n",
       "                  Crop    Area  Production  \n",
       "0             Arecanut  1254.0      2000.0  \n",
       "1  Other Kharif pulses     2.0         1.0  \n",
       "2                 Rice   102.0       321.0  \n",
       "3               Banana   176.0       641.0  \n",
       "4            Cashewnut   720.0       165.0  "
      ]
     },
     "execution_count": 73,
     "metadata": {},
     "output_type": "execute_result"
    }
   ],
   "source": [
    "df.head()"
   ]
  },
  {
   "cell_type": "code",
   "execution_count": 74,
   "id": "a52d27e2-98c8-4bab-98b4-9c152196dd14",
   "metadata": {},
   "outputs": [
    {
     "data": {
      "text/html": [
       "<div>\n",
       "<style scoped>\n",
       "    .dataframe tbody tr th:only-of-type {\n",
       "        vertical-align: middle;\n",
       "    }\n",
       "\n",
       "    .dataframe tbody tr th {\n",
       "        vertical-align: top;\n",
       "    }\n",
       "\n",
       "    .dataframe thead th {\n",
       "        text-align: right;\n",
       "    }\n",
       "</style>\n",
       "<table border=\"1\" class=\"dataframe\">\n",
       "  <thead>\n",
       "    <tr style=\"text-align: right;\">\n",
       "      <th></th>\n",
       "      <th>State_Name</th>\n",
       "      <th>District_Name</th>\n",
       "      <th>Crop_Year</th>\n",
       "      <th>Season</th>\n",
       "      <th>Crop</th>\n",
       "      <th>Area</th>\n",
       "      <th>Production</th>\n",
       "    </tr>\n",
       "  </thead>\n",
       "  <tbody>\n",
       "    <tr>\n",
       "      <th>246086</th>\n",
       "      <td>West Bengal</td>\n",
       "      <td>PURULIA</td>\n",
       "      <td>2014</td>\n",
       "      <td>Summer</td>\n",
       "      <td>Rice</td>\n",
       "      <td>306.0</td>\n",
       "      <td>801.0</td>\n",
       "    </tr>\n",
       "    <tr>\n",
       "      <th>246087</th>\n",
       "      <td>West Bengal</td>\n",
       "      <td>PURULIA</td>\n",
       "      <td>2014</td>\n",
       "      <td>Summer</td>\n",
       "      <td>Sesamum</td>\n",
       "      <td>627.0</td>\n",
       "      <td>463.0</td>\n",
       "    </tr>\n",
       "    <tr>\n",
       "      <th>246088</th>\n",
       "      <td>West Bengal</td>\n",
       "      <td>PURULIA</td>\n",
       "      <td>2014</td>\n",
       "      <td>Whole Year</td>\n",
       "      <td>Sugarcane</td>\n",
       "      <td>324.0</td>\n",
       "      <td>16250.0</td>\n",
       "    </tr>\n",
       "    <tr>\n",
       "      <th>246089</th>\n",
       "      <td>West Bengal</td>\n",
       "      <td>PURULIA</td>\n",
       "      <td>2014</td>\n",
       "      <td>Winter</td>\n",
       "      <td>Rice</td>\n",
       "      <td>279151.0</td>\n",
       "      <td>597899.0</td>\n",
       "    </tr>\n",
       "    <tr>\n",
       "      <th>246090</th>\n",
       "      <td>West Bengal</td>\n",
       "      <td>PURULIA</td>\n",
       "      <td>2014</td>\n",
       "      <td>Winter</td>\n",
       "      <td>Sesamum</td>\n",
       "      <td>175.0</td>\n",
       "      <td>88.0</td>\n",
       "    </tr>\n",
       "  </tbody>\n",
       "</table>\n",
       "</div>"
      ],
      "text/plain": [
       "         State_Name District_Name  Crop_Year       Season       Crop  \\\n",
       "246086  West Bengal       PURULIA       2014  Summer            Rice   \n",
       "246087  West Bengal       PURULIA       2014  Summer         Sesamum   \n",
       "246088  West Bengal       PURULIA       2014  Whole Year   Sugarcane   \n",
       "246089  West Bengal       PURULIA       2014  Winter            Rice   \n",
       "246090  West Bengal       PURULIA       2014  Winter         Sesamum   \n",
       "\n",
       "            Area  Production  \n",
       "246086     306.0       801.0  \n",
       "246087     627.0       463.0  \n",
       "246088     324.0     16250.0  \n",
       "246089  279151.0    597899.0  \n",
       "246090     175.0        88.0  "
      ]
     },
     "execution_count": 74,
     "metadata": {},
     "output_type": "execute_result"
    }
   ],
   "source": [
    "df.tail()"
   ]
  },
  {
   "cell_type": "code",
   "execution_count": 75,
   "id": "a4c4f7ec",
   "metadata": {},
   "outputs": [
    {
     "name": "stdout",
     "output_type": "stream",
     "text": [
      "<class 'pandas.core.frame.DataFrame'>\n",
      "RangeIndex: 246091 entries, 0 to 246090\n",
      "Data columns (total 7 columns):\n",
      " #   Column         Non-Null Count   Dtype  \n",
      "---  ------         --------------   -----  \n",
      " 0   State_Name     246091 non-null  object \n",
      " 1   District_Name  246091 non-null  object \n",
      " 2   Crop_Year      246091 non-null  int64  \n",
      " 3   Season         246091 non-null  object \n",
      " 4   Crop           246091 non-null  object \n",
      " 5   Area           246091 non-null  float64\n",
      " 6   Production     242361 non-null  float64\n",
      "dtypes: float64(2), int64(1), object(4)\n",
      "memory usage: 13.1+ MB\n"
     ]
    }
   ],
   "source": [
    "df.info()"
   ]
  },
  {
   "cell_type": "markdown",
   "id": "c08b0b77",
   "metadata": {},
   "source": [
    "> **Note**-\n",
    "The dataset contains 7 features includes 4 Nominal Categorical Variables,a date column and 2 Numerical Columns. It also have several Null values."
   ]
  },
  {
   "cell_type": "code",
   "execution_count": 76,
   "id": "9e49558b-cc48-4f33-bb92-d84fa9531d25",
   "metadata": {},
   "outputs": [
    {
     "data": {
      "text/html": [
       "<div>\n",
       "<style scoped>\n",
       "    .dataframe tbody tr th:only-of-type {\n",
       "        vertical-align: middle;\n",
       "    }\n",
       "\n",
       "    .dataframe tbody tr th {\n",
       "        vertical-align: top;\n",
       "    }\n",
       "\n",
       "    .dataframe thead th {\n",
       "        text-align: right;\n",
       "    }\n",
       "</style>\n",
       "<table border=\"1\" class=\"dataframe\">\n",
       "  <thead>\n",
       "    <tr style=\"text-align: right;\">\n",
       "      <th></th>\n",
       "      <th>Crop_Year</th>\n",
       "      <th>Area</th>\n",
       "      <th>Production</th>\n",
       "    </tr>\n",
       "  </thead>\n",
       "  <tbody>\n",
       "    <tr>\n",
       "      <th>count</th>\n",
       "      <td>246091.000000</td>\n",
       "      <td>2.460910e+05</td>\n",
       "      <td>2.423610e+05</td>\n",
       "    </tr>\n",
       "    <tr>\n",
       "      <th>mean</th>\n",
       "      <td>2005.643018</td>\n",
       "      <td>1.200282e+04</td>\n",
       "      <td>5.825034e+05</td>\n",
       "    </tr>\n",
       "    <tr>\n",
       "      <th>std</th>\n",
       "      <td>4.952164</td>\n",
       "      <td>5.052340e+04</td>\n",
       "      <td>1.706581e+07</td>\n",
       "    </tr>\n",
       "    <tr>\n",
       "      <th>min</th>\n",
       "      <td>1997.000000</td>\n",
       "      <td>4.000000e-02</td>\n",
       "      <td>0.000000e+00</td>\n",
       "    </tr>\n",
       "    <tr>\n",
       "      <th>25%</th>\n",
       "      <td>2002.000000</td>\n",
       "      <td>8.000000e+01</td>\n",
       "      <td>8.800000e+01</td>\n",
       "    </tr>\n",
       "    <tr>\n",
       "      <th>50%</th>\n",
       "      <td>2006.000000</td>\n",
       "      <td>5.820000e+02</td>\n",
       "      <td>7.290000e+02</td>\n",
       "    </tr>\n",
       "    <tr>\n",
       "      <th>75%</th>\n",
       "      <td>2010.000000</td>\n",
       "      <td>4.392000e+03</td>\n",
       "      <td>7.023000e+03</td>\n",
       "    </tr>\n",
       "    <tr>\n",
       "      <th>max</th>\n",
       "      <td>2015.000000</td>\n",
       "      <td>8.580100e+06</td>\n",
       "      <td>1.250800e+09</td>\n",
       "    </tr>\n",
       "  </tbody>\n",
       "</table>\n",
       "</div>"
      ],
      "text/plain": [
       "           Crop_Year          Area    Production\n",
       "count  246091.000000  2.460910e+05  2.423610e+05\n",
       "mean     2005.643018  1.200282e+04  5.825034e+05\n",
       "std         4.952164  5.052340e+04  1.706581e+07\n",
       "min      1997.000000  4.000000e-02  0.000000e+00\n",
       "25%      2002.000000  8.000000e+01  8.800000e+01\n",
       "50%      2006.000000  5.820000e+02  7.290000e+02\n",
       "75%      2010.000000  4.392000e+03  7.023000e+03\n",
       "max      2015.000000  8.580100e+06  1.250800e+09"
      ]
     },
     "execution_count": 76,
     "metadata": {},
     "output_type": "execute_result"
    }
   ],
   "source": [
    "df.describe()"
   ]
  },
  {
   "cell_type": "code",
   "execution_count": 77,
   "id": "54e12b1b",
   "metadata": {},
   "outputs": [
    {
     "data": {
      "text/plain": [
       "0"
      ]
     },
     "execution_count": 77,
     "metadata": {},
     "output_type": "execute_result"
    }
   ],
   "source": [
    "df.duplicated().sum()"
   ]
  },
  {
   "cell_type": "code",
   "execution_count": 78,
   "id": "77bf597b",
   "metadata": {},
   "outputs": [
    {
     "data": {
      "text/plain": [
       "State_Name       0.0\n",
       "District_Name    0.0\n",
       "Crop_Year        0.0\n",
       "Season           0.0\n",
       "Crop             0.0\n",
       "Area             0.0\n",
       "Production       1.5\n",
       "dtype: float64"
      ]
     },
     "execution_count": 78,
     "metadata": {},
     "output_type": "execute_result"
    }
   ],
   "source": [
    "#Check for the null value presence in the dataset\n",
    "round(df.isna().sum()/df.shape[0],3)*100"
   ]
  },
  {
   "cell_type": "markdown",
   "id": "d6bc3e88",
   "metadata": {},
   "source": [
    "> **Note**- \n",
    "There are 1.5% null values presents in the dataset, we can delete them as they have minimal impact on the Dataset."
   ]
  },
  {
   "cell_type": "markdown",
   "id": "ff8f4d50",
   "metadata": {},
   "source": [
    "## <span style=\"color: springgreen;\">✒️Exploratory Data Analysis </span>"
   ]
  },
  {
   "cell_type": "code",
   "execution_count": 79,
   "id": "1664fcf2",
   "metadata": {},
   "outputs": [
    {
     "data": {
      "text/html": [
       "<div>\n",
       "<style scoped>\n",
       "    .dataframe tbody tr th:only-of-type {\n",
       "        vertical-align: middle;\n",
       "    }\n",
       "\n",
       "    .dataframe tbody tr th {\n",
       "        vertical-align: top;\n",
       "    }\n",
       "\n",
       "    .dataframe thead th {\n",
       "        text-align: right;\n",
       "    }\n",
       "</style>\n",
       "<table border=\"1\" class=\"dataframe\">\n",
       "  <thead>\n",
       "    <tr style=\"text-align: right;\">\n",
       "      <th></th>\n",
       "      <th>State_Name</th>\n",
       "      <th>District_Name</th>\n",
       "      <th>Crop_Year</th>\n",
       "      <th>Season</th>\n",
       "      <th>Crop</th>\n",
       "      <th>Area</th>\n",
       "      <th>Production</th>\n",
       "    </tr>\n",
       "  </thead>\n",
       "  <tbody>\n",
       "    <tr>\n",
       "      <th>0</th>\n",
       "      <td>Andaman and Nicobar Islands</td>\n",
       "      <td>NICOBARS</td>\n",
       "      <td>2000</td>\n",
       "      <td>Kharif</td>\n",
       "      <td>Arecanut</td>\n",
       "      <td>1254.0</td>\n",
       "      <td>2000.0</td>\n",
       "    </tr>\n",
       "    <tr>\n",
       "      <th>1</th>\n",
       "      <td>Andaman and Nicobar Islands</td>\n",
       "      <td>NICOBARS</td>\n",
       "      <td>2000</td>\n",
       "      <td>Kharif</td>\n",
       "      <td>Other Kharif pulses</td>\n",
       "      <td>2.0</td>\n",
       "      <td>1.0</td>\n",
       "    </tr>\n",
       "    <tr>\n",
       "      <th>2</th>\n",
       "      <td>Andaman and Nicobar Islands</td>\n",
       "      <td>NICOBARS</td>\n",
       "      <td>2000</td>\n",
       "      <td>Kharif</td>\n",
       "      <td>Rice</td>\n",
       "      <td>102.0</td>\n",
       "      <td>321.0</td>\n",
       "    </tr>\n",
       "    <tr>\n",
       "      <th>3</th>\n",
       "      <td>Andaman and Nicobar Islands</td>\n",
       "      <td>NICOBARS</td>\n",
       "      <td>2000</td>\n",
       "      <td>Whole Year</td>\n",
       "      <td>Banana</td>\n",
       "      <td>176.0</td>\n",
       "      <td>641.0</td>\n",
       "    </tr>\n",
       "    <tr>\n",
       "      <th>4</th>\n",
       "      <td>Andaman and Nicobar Islands</td>\n",
       "      <td>NICOBARS</td>\n",
       "      <td>2000</td>\n",
       "      <td>Whole Year</td>\n",
       "      <td>Cashewnut</td>\n",
       "      <td>720.0</td>\n",
       "      <td>165.0</td>\n",
       "    </tr>\n",
       "  </tbody>\n",
       "</table>\n",
       "</div>"
      ],
      "text/plain": [
       "                    State_Name District_Name  Crop_Year       Season  \\\n",
       "0  Andaman and Nicobar Islands      NICOBARS       2000  Kharif        \n",
       "1  Andaman and Nicobar Islands      NICOBARS       2000  Kharif        \n",
       "2  Andaman and Nicobar Islands      NICOBARS       2000  Kharif        \n",
       "3  Andaman and Nicobar Islands      NICOBARS       2000  Whole Year    \n",
       "4  Andaman and Nicobar Islands      NICOBARS       2000  Whole Year    \n",
       "\n",
       "                  Crop    Area  Production  \n",
       "0             Arecanut  1254.0      2000.0  \n",
       "1  Other Kharif pulses     2.0         1.0  \n",
       "2                 Rice   102.0       321.0  \n",
       "3               Banana   176.0       641.0  \n",
       "4            Cashewnut   720.0       165.0  "
      ]
     },
     "execution_count": 79,
     "metadata": {},
     "output_type": "execute_result"
    }
   ],
   "source": [
    "df.head()"
   ]
  },
  {
   "cell_type": "code",
   "execution_count": 80,
   "id": "1998eb00",
   "metadata": {},
   "outputs": [],
   "source": [
    "#Add the categorical and numerical features in Separate lists\n",
    "cats=[col for col in df.columns if df[col].dtype==\"O\"]\n",
    "nums=['Area','Production']"
   ]
  },
  {
   "cell_type": "code",
   "execution_count": 81,
   "id": "06b8cd9a",
   "metadata": {},
   "outputs": [
    {
     "data": {
      "text/plain": [
       "array(['Kharif     ', 'Whole Year ', 'Autumn     ', 'Rabi       ',\n",
       "       'Summer     ', 'Winter     '], dtype=object)"
      ]
     },
     "execution_count": 81,
     "metadata": {},
     "output_type": "execute_result"
    }
   ],
   "source": [
    "#check for the unique values in Season\n",
    "df['Season'].unique()"
   ]
  },
  {
   "cell_type": "code",
   "execution_count": 82,
   "id": "453b4808",
   "metadata": {},
   "outputs": [
    {
     "data": {
      "text/plain": [
       "array(['Kharif', 'Whole Year', 'Autumn', 'Rabi', 'Summer', 'Winter'],\n",
       "      dtype=object)"
      ]
     },
     "execution_count": 82,
     "metadata": {},
     "output_type": "execute_result"
    }
   ],
   "source": [
    "#Remove the extra spaces from the Values in Season\n",
    "df['Season']=df['Season'].apply(lambda x : x.strip())\n",
    "df['Season'].unique()"
   ]
  },
  {
   "cell_type": "code",
   "execution_count": 83,
   "id": "083dc46e",
   "metadata": {},
   "outputs": [
    {
     "data": {
      "text/plain": [
       "Season\n",
       "Kharif        95951\n",
       "Rabi          66987\n",
       "Whole Year    57305\n",
       "Summer        14841\n",
       "Winter         6058\n",
       "Autumn         4949\n",
       "Name: count, dtype: int64"
      ]
     },
     "execution_count": 83,
     "metadata": {},
     "output_type": "execute_result"
    }
   ],
   "source": [
    "#Check for the value counts in Season Features\n",
    "df['Season'].value_counts()"
   ]
  },
  {
   "cell_type": "markdown",
   "id": "6efd3fbc",
   "metadata": {},
   "source": [
    "> **Note**- \n",
    "\n",
    "\n",
    "Since there are majorly 3 Crop Seasons such as: Kharif, Rabi and Zaid in India, however the dataset contains 6 Crop seasons (Kharif, Whole Year, Autumn, Autumn, Rabi, Summer, Winter).\n",
    "\n",
    "- **Kharif Season**- This season includes the crops which are sown at the begining of Monsoon typically in June-july and harvested at the end of Monsoon (October-November).\n",
    "- **Rabi Season** - The crops which are mainly sown in winter(October) and harvested in spring(March-April) are inclueded in Rabi Season Crops. \n",
    "- **Whole Year** - The crops which grown throughout the year, is termed as Whole Year Crops.\n",
    "- **Summer Season**- Summer Season crops which is also knwon as Zaid Season. This includes the crops which are grown between Rabi and Kharif Season typically in March to June.\n",
    "- **Autumn Season**- This can be classified into Kharif Season as the crops sown in june and harvested in October-November. \n",
    "- **Winter Season**- This season is also known as Rabi Season. They are also sown in winter(October) and harvested in spring(March-April)."
   ]
  },
  {
   "cell_type": "code",
   "execution_count": 84,
   "id": "5547a49e",
   "metadata": {},
   "outputs": [
    {
     "data": {
      "text/plain": [
       "Season\n",
       "Kharif        100900\n",
       "Rabi           73045\n",
       "Whole Year     57305\n",
       "Zaid           14841\n",
       "Name: count, dtype: int64"
      ]
     },
     "execution_count": 84,
     "metadata": {},
     "output_type": "execute_result"
    }
   ],
   "source": [
    "#After the research we can replace the season like Summer, Autumn and Winter to Zaid, Kharif and Rabi respectively for better analysis\n",
    "df['Season']=df['Season'].replace(['Summer','Autumn','Winter'],['Zaid','Kharif','Rabi'])\n",
    "df['Season'].value_counts()"
   ]
  },
  {
   "cell_type": "code",
   "execution_count": 85,
   "id": "cf8f94d1",
   "metadata": {},
   "outputs": [
    {
     "name": "stdout",
     "output_type": "stream",
     "text": [
      "Crops agricultured in Kharif\n",
      "['Arecanut' 'Other Kharif pulses' 'Rice' 'Sugarcane' 'Arhar/Tur' 'Bajra'\n",
      " 'Castor seed' 'Cotton(lint)' 'Dry chillies' 'Groundnut' 'Horse-gram'\n",
      " 'Jowar' 'Korra' 'Maize' 'Moong(Green Gram)' 'Ragi' 'Sunflower' 'Tobacco'\n",
      " 'Masoor' 'Sesamum' 'Urad' 'Gram' 'Onion' 'other misc. pulses' 'Samai'\n",
      " 'Small millets' 'Soyabean' 'Mesta' 'Cowpea(Lobia)' 'other oilseeds'\n",
      " 'Brinjal' 'Coriander' 'Grapes' 'Lemon' 'Linseed' 'Mango' 'Papaya'\n",
      " 'Pome Granet' 'Sapota' 'Tomato' 'Turmeric' 'Cabbage' 'Cashewnut' 'Potato'\n",
      " 'Sweet potato' 'Niger seed' 'Tapioca' 'Dry ginger' 'Safflower' 'Varagu'\n",
      " 'Jute' 'Paddy' 'Orange' 'Blackgram' 'Sannhamp' 'Guar seed' 'Coconut '\n",
      " 'Banana' 'Moth' 'Other Cereals & Millets' 'Pulses total'\n",
      " 'Peas & beans (Pulses)' 'Ginger' 'Garlic' 'Cond-spcs other' 'Wheat'\n",
      " 'Barley' 'Rapeseed &Mustard' 'Black pepper' 'Total foodgrain' 'Kapas'\n",
      " 'Cardamom' 'Tea' 'Colocosia' 'Oilseeds total' 'Bean' 'Jobster' 'Perilla'\n",
      " 'Rajmash Kholar' 'Ricebean (nagadal)' 'Jute & mesta' 'Khesari']\n",
      " \n",
      "Crops agricultured in Whole Year\n",
      "['Banana' 'Cashewnut' 'Coconut ' 'Dry ginger' 'Sugarcane' 'Sweet potato'\n",
      " 'Tapioca' 'Arecanut' 'Black pepper' 'Dry chillies' 'other oilseeds'\n",
      " 'Turmeric' 'Tobacco' 'Onion' 'Coriander' 'Potato'\n",
      " 'Beans & Mutter(Vegetable)' 'Bhindi' 'Brinjal' 'Citrus Fruit' 'Cucumber'\n",
      " 'Grapes' 'Mango' 'Orange' 'other fibres' 'Other Fresh Fruits'\n",
      " 'Other Vegetables' 'Papaya' 'Pome Fruit' 'Tomato' 'Sunflower'\n",
      " 'Castor seed' 'Linseed' 'Safflower' 'Wheat' 'Rice' 'Cabbage'\n",
      " 'Peas  (vegetable)' 'Bottle Gourd' 'Sannhamp' 'Garlic' 'Ginger'\n",
      " 'Oilseeds total' 'Pulses total' 'Niger seed' 'Sesamum' 'Pineapple' 'Ragi'\n",
      " 'Jowar' 'Cotton(lint)' 'Bajra' 'Maize' 'Guar seed' 'Turnip' 'Carrot'\n",
      " 'Redish' 'Arcanut (Processed)' 'Atcanut (Raw)' 'Mesta'\n",
      " 'Peas & beans (Pulses)' 'Cashewnut Processed' 'Cashewnut Raw' 'Cardamom'\n",
      " 'Rubber' 'Bitter Gourd' 'Drum Stick' 'Jack Fruit' 'Snak Guard'\n",
      " 'Cowpea(Lobia)' 'Moong(Green Gram)' 'Pump Kin' 'Tea' 'Coffee' 'Arhar/Tur'\n",
      " 'Blackgram' 'Horse-gram' 'Groundnut' 'Small millets' 'Soyabean' 'Gram'\n",
      " 'Cauliflower' 'Barley' 'Khesari' 'Masoor' 'Rapeseed &Mustard'\n",
      " 'Other Citrus Fruit' 'Water Melon' 'Kapas' 'Total foodgrain' 'Urad'\n",
      " 'Ash Gourd' 'Beet Root' 'Lab-Lab' 'Pome Granet' 'Ribed Guard' 'Yam'\n",
      " 'Apple' 'Peach' 'Pear' 'Plums' 'Litchi' 'Ber' 'Other Dry Fruit'\n",
      " 'Jute & mesta' 'Moth']\n",
      " \n",
      "Crops agricultured in Rabi\n",
      "['Arecanut' 'Black pepper' 'Cashewnut' 'Dry chillies' 'Dry ginger' 'Maize'\n",
      " 'Moong(Green Gram)' 'Sweet potato' 'Turmeric' 'Urad' 'Arhar/Tur'\n",
      " 'Groundnut' 'Sunflower' 'Gram' 'Horse-gram' 'Jowar' 'Korra' 'Ragi' 'Rice'\n",
      " 'Wheat' 'Bajra' 'Linseed' 'Masoor' 'Safflower' 'Sesamum' 'Onion'\n",
      " 'Small millets' 'Other  Rabi pulses' 'Rapeseed &Mustard' 'Cowpea(Lobia)'\n",
      " 'Brinjal' 'Castor seed' 'Coriander' 'Cotton(lint)' 'Potato' 'Tobacco'\n",
      " 'Tomato' 'Cabbage' 'Other Kharif pulses' 'other misc. pulses'\n",
      " 'other oilseeds' 'Samai' 'Mesta' 'Varagu' 'Soyabean' 'Papaya'\n",
      " 'Niger seed' 'Sugarcane' 'Peas & beans (Pulses)' 'Blackgram' 'Banana'\n",
      " 'Ginger' 'Pineapple' 'Paddy' 'Barley' 'Khesari' 'Garlic' 'Jute'\n",
      " 'Sannhamp' 'Other Cereals & Millets' 'Cond-spcs other' 'Pulses total'\n",
      " 'Lentil' 'Oilseeds total' 'Rajmash Kholar' 'Tapioca' 'Total foodgrain'\n",
      " 'Moth']\n",
      " \n",
      "Crops agricultured in Zaid\n",
      "['Rice' 'Paddy' 'Maize' 'Moong(Green Gram)' 'Onion' 'Sunflower' 'Bajra'\n",
      " 'Groundnut' 'Sesamum' 'Urad' 'Jowar' 'Dry chillies' 'Cowpea(Lobia)'\n",
      " 'Cotton(lint)' 'Peas & beans (Pulses)' 'Potato' 'Ragi' 'Dry ginger'\n",
      " 'Jute' 'Sugarcane' 'Turmeric' 'Banana' 'Arhar/Tur' 'Wheat' 'Horse-gram'\n",
      " 'Brinjal' 'Other  Rabi pulses' 'Tobacco' 'Small millets'\n",
      " 'Total foodgrain' 'Pulses total']\n",
      " \n"
     ]
    }
   ],
   "source": [
    "#check for the unique crops agricultured in different Seasons\n",
    "for i in df['Season'].unique():\n",
    "    print(f'Crops agricultured in {i}')\n",
    "    print(df[df['Season']==i]['Crop'].unique())\n",
    "    print(' ')"
   ]
  },
  {
   "cell_type": "code",
   "execution_count": 86,
   "id": "56aafc71",
   "metadata": {},
   "outputs": [],
   "source": [
    "df['Crop'].replace('Sannhamp','Sanhemp',inplace=True)"
   ]
  },
  {
   "cell_type": "code",
   "execution_count": null,
   "id": "45bdc279",
   "metadata": {},
   "outputs": [],
   "source": []
  },
  {
   "cell_type": "markdown",
   "id": "87459d27",
   "metadata": {},
   "source": [
    "> **Note**\n",
    "\n",
    "Overall, the crop lists for each season are mostly accurate, though there are a few minor overlaps where some crops can be cultivated in multiple seasons depending on regional agricultural practices."
   ]
  },
  {
   "cell_type": "code",
   "execution_count": 87,
   "id": "54fac855",
   "metadata": {},
   "outputs": [],
   "source": [
    "# Categorize crops into different categories \n",
    "fruits = ['Banana', 'Grapes', 'Lemon', 'Mango', 'Papaya', 'Pome Granet', 'Sapota',\n",
    "    'Orange', 'Pineapple', 'Water Melon', 'Apple', 'Peach', 'Pear', 'Plums',\n",
    "    'Litchi', 'Ber', 'Other Fresh Fruits', 'Citrus Fruit', 'Pome Fruit',\n",
    "    'Jack Fruit','Other Citrus Fruit']\n",
    "\n",
    "vegetables = ['Onion', 'Tomato', 'Cabbage', 'Potato', 'Sweet potato', 'Brinjal',\n",
    "    'Coriander', 'Turmeric', 'Dry chillies', 'Cauliflower',\n",
    "    'Bottle Gourd', 'Turnip', 'Carrot', 'Redish', 'Pump Kin', 'Ash Gourd',\n",
    "    'Beet Root', 'Lab-Lab', 'Ribed Guard', 'Yam', 'Bhindi', 'Cucumber',\n",
    "    'Bitter Gourd', 'Drum Stick', 'Snak Guard', 'Beans & Mutter(Vegetable)',\n",
    "    'Peas  (vegetable)', 'Other Vegetables','Bean']\n",
    "\n",
    "pulses = ['Arhar/Tur', 'Moong(Green Gram)', 'Urad', 'Gram', 'Masoor', 'Peas & beans (Pulses)',\n",
    "    'Other Kharif pulses', 'other misc. pulses', 'Horse-gram', 'Cowpea(Lobia)',\n",
    "    'Other  Rabi pulses', 'Blackgram', 'Rajmash Kholar', 'Lentil', 'Pulses total',\n",
    "    'Moth', 'Khesari','Ricebean (nagadal)', 'Guar seed']\n",
    "\n",
    "cereals = ['Rice', 'Paddy', 'Wheat', 'Maize', 'Jowar', 'Bajra', 'Ragi', 'Korra','Barley',\n",
    "    'Small millets', 'Samai', 'Varagu', 'Other Cereals & Millets', 'Total foodgrain','Tapioca']\n",
    "\n",
    "oilseeds = ['Castor seed', 'Sunflower', 'Sesamum', 'Niger seed', 'Linseed', 'Groundnut','Coconut ',\n",
    "    'Soyabean', 'Safflower', 'other oilseeds', 'Oilseeds total', 'Rapeseed &Mustard']\n",
    "\n",
    "commercial_crops = ['Sugarcane', 'Tobacco',  'Tea', 'Coffee',]    \n",
    "\n",
    "nuts = ['Arecanut', 'Cashewnut', 'Arcanut (Processed)', 'Atcanut (Raw)',\n",
    "    'Cashewnut Processed', 'Cashewnut Raw','Other Dry Fruit']\n",
    "\n",
    "spices = ['Dry ginger', 'Turmeric', 'Dry chillies', 'Black pepper', 'Ginger', 'Garlic',\n",
    "    'Cond-spcs other', 'Cardamom', 'Black pepper', 'Perilla']\n",
    "\n",
    "\n",
    "fibres = ['Cotton(lint)', 'Jute', 'Mesta', 'Jute & mesta', 'other fibres','Kapas','Rubber','Sanhemp']\n",
    "\n",
    "other = ['Jobster']"
   ]
  },
  {
   "cell_type": "markdown",
   "id": "d9bfab82",
   "metadata": {},
   "source": [
    "> **Note**- \n",
    "\n",
    "For better analysis, we categorized the crops according to their original categories."
   ]
  },
  {
   "cell_type": "code",
   "execution_count": 88,
   "id": "33c1e9e8",
   "metadata": {},
   "outputs": [],
   "source": [
    "#Define a function to add a crop category column \n",
    "\n",
    "def categorize_crop(crop):\n",
    "\n",
    "    if crop in fruits:\n",
    "           return 'Fruits'\n",
    "    elif crop in vegetables:\n",
    "        return 'Vegetables'\n",
    "    elif crop in pulses:\n",
    "        return 'Pulses'\n",
    "    elif crop in cereals:\n",
    "        return 'Cereals'\n",
    "    elif crop in oilseeds:\n",
    "        return \"Oilseeds\"\n",
    "    elif crop in commercial_crops:\n",
    "        return 'Commercial_crops'\n",
    "    elif crop in nuts:\n",
    "        return 'Nuts'\n",
    "    elif crop in spices:\n",
    "        return 'Spices'\n",
    "    elif crop in fibres:\n",
    "        return 'Fibres'\n",
    "    else:\n",
    "        return \"Other\""
   ]
  },
  {
   "cell_type": "code",
   "execution_count": 96,
   "id": "27127b65",
   "metadata": {},
   "outputs": [
    {
     "data": {
      "text/html": [
       "<div>\n",
       "<style scoped>\n",
       "    .dataframe tbody tr th:only-of-type {\n",
       "        vertical-align: middle;\n",
       "    }\n",
       "\n",
       "    .dataframe tbody tr th {\n",
       "        vertical-align: top;\n",
       "    }\n",
       "\n",
       "    .dataframe thead th {\n",
       "        text-align: right;\n",
       "    }\n",
       "</style>\n",
       "<table border=\"1\" class=\"dataframe\">\n",
       "  <thead>\n",
       "    <tr style=\"text-align: right;\">\n",
       "      <th></th>\n",
       "      <th>State_Name</th>\n",
       "      <th>District_Name</th>\n",
       "      <th>Crop_Year</th>\n",
       "      <th>Season</th>\n",
       "      <th>Crop</th>\n",
       "      <th>Area</th>\n",
       "      <th>Production</th>\n",
       "      <th>crop_cat</th>\n",
       "    </tr>\n",
       "  </thead>\n",
       "  <tbody>\n",
       "    <tr>\n",
       "      <th>0</th>\n",
       "      <td>Andaman and Nicobar Islands</td>\n",
       "      <td>NICOBARS</td>\n",
       "      <td>2000</td>\n",
       "      <td>Kharif</td>\n",
       "      <td>Arecanut</td>\n",
       "      <td>1254.0</td>\n",
       "      <td>2000.0</td>\n",
       "      <td>Nuts</td>\n",
       "    </tr>\n",
       "    <tr>\n",
       "      <th>1</th>\n",
       "      <td>Andaman and Nicobar Islands</td>\n",
       "      <td>NICOBARS</td>\n",
       "      <td>2000</td>\n",
       "      <td>Kharif</td>\n",
       "      <td>Other Kharif pulses</td>\n",
       "      <td>2.0</td>\n",
       "      <td>1.0</td>\n",
       "      <td>Pulses</td>\n",
       "    </tr>\n",
       "    <tr>\n",
       "      <th>2</th>\n",
       "      <td>Andaman and Nicobar Islands</td>\n",
       "      <td>NICOBARS</td>\n",
       "      <td>2000</td>\n",
       "      <td>Kharif</td>\n",
       "      <td>Rice</td>\n",
       "      <td>102.0</td>\n",
       "      <td>321.0</td>\n",
       "      <td>Cereals</td>\n",
       "    </tr>\n",
       "    <tr>\n",
       "      <th>3</th>\n",
       "      <td>Andaman and Nicobar Islands</td>\n",
       "      <td>NICOBARS</td>\n",
       "      <td>2000</td>\n",
       "      <td>Whole Year</td>\n",
       "      <td>Banana</td>\n",
       "      <td>176.0</td>\n",
       "      <td>641.0</td>\n",
       "      <td>Fruits</td>\n",
       "    </tr>\n",
       "    <tr>\n",
       "      <th>4</th>\n",
       "      <td>Andaman and Nicobar Islands</td>\n",
       "      <td>NICOBARS</td>\n",
       "      <td>2000</td>\n",
       "      <td>Whole Year</td>\n",
       "      <td>Cashewnut</td>\n",
       "      <td>720.0</td>\n",
       "      <td>165.0</td>\n",
       "      <td>Nuts</td>\n",
       "    </tr>\n",
       "  </tbody>\n",
       "</table>\n",
       "</div>"
      ],
      "text/plain": [
       "                    State_Name District_Name  Crop_Year      Season  \\\n",
       "0  Andaman and Nicobar Islands      NICOBARS       2000      Kharif   \n",
       "1  Andaman and Nicobar Islands      NICOBARS       2000      Kharif   \n",
       "2  Andaman and Nicobar Islands      NICOBARS       2000      Kharif   \n",
       "3  Andaman and Nicobar Islands      NICOBARS       2000  Whole Year   \n",
       "4  Andaman and Nicobar Islands      NICOBARS       2000  Whole Year   \n",
       "\n",
       "                  Crop    Area  Production crop_cat  \n",
       "0             Arecanut  1254.0      2000.0     Nuts  \n",
       "1  Other Kharif pulses     2.0         1.0   Pulses  \n",
       "2                 Rice   102.0       321.0  Cereals  \n",
       "3               Banana   176.0       641.0   Fruits  \n",
       "4            Cashewnut   720.0       165.0     Nuts  "
      ]
     },
     "execution_count": 96,
     "metadata": {},
     "output_type": "execute_result"
    }
   ],
   "source": [
    "#Add a new column 'Crop_cat' in the dataset\n",
    "df['crop_cat']=df['Crop'].apply(categorize_crop)\n",
    "df.head()"
   ]
  },
  {
   "cell_type": "code",
   "execution_count": 97,
   "id": "6447ef2c",
   "metadata": {},
   "outputs": [
    {
     "data": {
      "text/plain": [
       "crop_cat\n",
       "Cereals             65590\n",
       "Pulses              59229\n",
       "Oilseeds            48485\n",
       "Vegetables          34932\n",
       "Commercial_crops    10687\n",
       "Fibres              10224\n",
       "Spices               7926\n",
       "Fruits               6243\n",
       "Nuts                 2755\n",
       "Other                  20\n",
       "Name: count, dtype: int64"
      ]
     },
     "execution_count": 97,
     "metadata": {},
     "output_type": "execute_result"
    }
   ],
   "source": [
    "df['crop_cat'].value_counts()"
   ]
  }
 ],
 "metadata": {
  "kernelspec": {
   "display_name": "Python 3 (ipykernel)",
   "language": "python",
   "name": "python3"
  },
  "language_info": {
   "codemirror_mode": {
    "name": "ipython",
    "version": 3
   },
   "file_extension": ".py",
   "mimetype": "text/x-python",
   "name": "python",
   "nbconvert_exporter": "python",
   "pygments_lexer": "ipython3",
   "version": "3.12.2"
  }
 },
 "nbformat": 4,
 "nbformat_minor": 5
}
